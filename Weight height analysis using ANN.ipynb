{
 "cells": [
  {
   "cell_type": "code",
   "execution_count": 2,
   "metadata": {},
   "outputs": [],
   "source": [
    "import pandas as pd"
   ]
  },
  {
   "cell_type": "code",
   "execution_count": 3,
   "metadata": {},
   "outputs": [],
   "source": [
    "dataset = pd.read_csv('weight-height.csv')"
   ]
  },
  {
   "cell_type": "code",
   "execution_count": 4,
   "metadata": {},
   "outputs": [
    {
     "name": "stdout",
     "output_type": "stream",
     "text": [
      "<class 'pandas.core.frame.DataFrame'>\n",
      "RangeIndex: 10000 entries, 0 to 9999\n",
      "Data columns (total 3 columns):\n",
      " #   Column  Non-Null Count  Dtype  \n",
      "---  ------  --------------  -----  \n",
      " 0   Gender  10000 non-null  object \n",
      " 1   Height  10000 non-null  float64\n",
      " 2   Weight  10000 non-null  float64\n",
      "dtypes: float64(2), object(1)\n",
      "memory usage: 234.5+ KB\n"
     ]
    }
   ],
   "source": [
    "dataset.info()"
   ]
  },
  {
   "cell_type": "code",
   "execution_count": 5,
   "metadata": {},
   "outputs": [
    {
     "data": {
      "text/plain": [
       "Index(['Gender', 'Height', 'Weight'], dtype='object')"
      ]
     },
     "execution_count": 5,
     "metadata": {},
     "output_type": "execute_result"
    }
   ],
   "source": [
    "dataset.columns"
   ]
  },
  {
   "cell_type": "code",
   "execution_count": 6,
   "metadata": {},
   "outputs": [],
   "source": [
    "y = dataset['Weight']"
   ]
  },
  {
   "cell_type": "code",
   "execution_count": 7,
   "metadata": {},
   "outputs": [],
   "source": [
    "X = dataset['Height']"
   ]
  },
  {
   "cell_type": "code",
   "execution_count": 8,
   "metadata": {},
   "outputs": [],
   "source": [
    "from keras.models import Sequential"
   ]
  },
  {
   "cell_type": "code",
   "execution_count": 9,
   "metadata": {},
   "outputs": [],
   "source": [
    "from keras.layers import Dense"
   ]
  },
  {
   "cell_type": "code",
   "execution_count": 10,
   "metadata": {},
   "outputs": [],
   "source": [
    "from keras.optimizers import Adam"
   ]
  },
  {
   "cell_type": "code",
   "execution_count": 11,
   "metadata": {},
   "outputs": [],
   "source": [
    "model = Sequential()"
   ]
  },
  {
   "cell_type": "code",
   "execution_count": 12,
   "metadata": {},
   "outputs": [],
   "source": [
    "# by default : linear activation functions\n",
    "# units : output\n",
    "# input shape: input feature\n",
    "# dense: how many hidden layer\n",
    "model.add(Dense(units=1 , input_shape=(1,)  ))"
   ]
  },
  {
   "cell_type": "code",
   "execution_count": 13,
   "metadata": {},
   "outputs": [
    {
     "name": "stdout",
     "output_type": "stream",
     "text": [
      "Model: \"sequential_1\"\n",
      "_________________________________________________________________\n",
      "Layer (type)                 Output Shape              Param #   \n",
      "=================================================================\n",
      "dense_1 (Dense)              (None, 1)                 2         \n",
      "=================================================================\n",
      "Total params: 2\n",
      "Trainable params: 2\n",
      "Non-trainable params: 0\n",
      "_________________________________________________________________\n"
     ]
    }
   ],
   "source": [
    "model.summary()"
   ]
  },
  {
   "cell_type": "code",
   "execution_count": 14,
   "metadata": {},
   "outputs": [],
   "source": [
    "model.compile(loss='mean_squared_error', optimizer=Adam(learning_rate=0.000001) )"
   ]
  },
  {
   "cell_type": "code",
   "execution_count": 15,
   "metadata": {},
   "outputs": [
    {
     "name": "stdout",
     "output_type": "stream",
     "text": [
      "Epoch 1/20\n",
      "10000/10000 [==============================] - 0s 25us/step - loss: 9258.4042\n",
      "Epoch 2/20\n",
      "10000/10000 [==============================] - 0s 17us/step - loss: 9254.5601\n",
      "Epoch 3/20\n",
      "10000/10000 [==============================] - 0s 17us/step - loss: 9250.7339\n",
      "Epoch 4/20\n",
      "10000/10000 [==============================] - 0s 18us/step - loss: 9246.9170\n",
      "Epoch 5/20\n",
      "10000/10000 [==============================] - 0s 17us/step - loss: 9243.1248\n",
      "Epoch 6/20\n",
      "10000/10000 [==============================] - 0s 17us/step - loss: 9239.2962\n",
      "Epoch 7/20\n",
      "10000/10000 [==============================] - 0s 17us/step - loss: 9235.4807\n",
      "Epoch 8/20\n",
      "10000/10000 [==============================] - 0s 17us/step - loss: 9231.6751\n",
      "Epoch 9/20\n",
      "10000/10000 [==============================] - 0s 17us/step - loss: 9227.8618\n",
      "Epoch 10/20\n",
      "10000/10000 [==============================] - 0s 18us/step - loss: 9224.0242\n",
      "Epoch 11/20\n",
      "10000/10000 [==============================] - 0s 25us/step - loss: 9220.2202\n",
      "Epoch 12/20\n",
      "10000/10000 [==============================] - 0s 17us/step - loss: 9216.4151\n",
      "Epoch 13/20\n",
      "10000/10000 [==============================] - 0s 17us/step - loss: 9212.5962\n",
      "Epoch 14/20\n",
      "10000/10000 [==============================] - 0s 17us/step - loss: 9208.7917\n",
      "Epoch 15/20\n",
      "10000/10000 [==============================] - 0s 17us/step - loss: 9204.9747\n",
      "Epoch 16/20\n",
      "10000/10000 [==============================] - 0s 17us/step - loss: 9201.1625\n",
      "Epoch 17/20\n",
      "10000/10000 [==============================] - 0s 17us/step - loss: 9197.3647\n",
      "Epoch 18/20\n",
      "10000/10000 [==============================] - 0s 17us/step - loss: 9193.5643\n",
      "Epoch 19/20\n",
      "10000/10000 [==============================] - 0s 17us/step - loss: 9189.7631\n",
      "Epoch 20/20\n",
      "10000/10000 [==============================] - 0s 18us/step - loss: 9185.9577\n"
     ]
    },
    {
     "data": {
      "text/plain": [
       "<keras.callbacks.callbacks.History at 0x2636293b708>"
      ]
     },
     "execution_count": 15,
     "metadata": {},
     "output_type": "execute_result"
    }
   ],
   "source": [
    "model.fit(X,y, epochs=20)"
   ]
  },
  {
   "cell_type": "code",
   "execution_count": 16,
   "metadata": {},
   "outputs": [],
   "source": [
    "W , B = model.get_weights()"
   ]
  },
  {
   "cell_type": "code",
   "execution_count": 17,
   "metadata": {},
   "outputs": [
    {
     "data": {
      "text/plain": [
       "array([[1.0533131]], dtype=float32)"
      ]
     },
     "execution_count": 17,
     "metadata": {},
     "output_type": "execute_result"
    }
   ],
   "source": [
    "W"
   ]
  },
  {
   "cell_type": "code",
   "execution_count": 18,
   "metadata": {},
   "outputs": [
    {
     "data": {
      "text/plain": [
       "array([0.00624739], dtype=float32)"
      ]
     },
     "execution_count": 18,
     "metadata": {},
     "output_type": "execute_result"
    }
   ],
   "source": [
    "B"
   ]
  },
  {
   "cell_type": "code",
   "execution_count": 19,
   "metadata": {},
   "outputs": [
    {
     "data": {
      "text/plain": [
       "(1, 1)"
      ]
     },
     "execution_count": 19,
     "metadata": {},
     "output_type": "execute_result"
    }
   ],
   "source": [
    "W.shape"
   ]
  },
  {
   "cell_type": "code",
   "execution_count": 20,
   "metadata": {},
   "outputs": [],
   "source": [
    "W[0,0] = 0.0"
   ]
  },
  {
   "cell_type": "code",
   "execution_count": 21,
   "metadata": {},
   "outputs": [],
   "source": [
    "B[0] = 0.0"
   ]
  },
  {
   "cell_type": "code",
   "execution_count": 22,
   "metadata": {},
   "outputs": [],
   "source": [
    "model.set_weights((W,B))"
   ]
  },
  {
   "cell_type": "code",
   "execution_count": 23,
   "metadata": {},
   "outputs": [
    {
     "data": {
      "text/plain": [
       "[array([[0.]], dtype=float32), array([0.], dtype=float32)]"
      ]
     },
     "execution_count": 23,
     "metadata": {},
     "output_type": "execute_result"
    }
   ],
   "source": [
    "model.get_weights()"
   ]
  },
  {
   "cell_type": "code",
   "execution_count": 25,
   "metadata": {},
   "outputs": [
    {
     "name": "stdout",
     "output_type": "stream",
     "text": [
      "Epoch 1/50\n",
      "10000/10000 [==============================] - 0s 18us/step - loss: 26942.8001\n",
      "Epoch 2/50\n",
      "10000/10000 [==============================] - 0s 17us/step - loss: 26935.9477\n",
      "Epoch 3/50\n",
      "10000/10000 [==============================] - 0s 17us/step - loss: 26929.0985\n",
      "Epoch 4/50\n",
      "10000/10000 [==============================] - 0s 17us/step - loss: 26922.2491\n",
      "Epoch 5/50\n",
      "10000/10000 [==============================] - 0s 17us/step - loss: 26915.3983\n",
      "Epoch 6/50\n",
      "10000/10000 [==============================] - 0s 17us/step - loss: 26908.5487\n",
      "Epoch 7/50\n",
      "10000/10000 [==============================] - 0s 17us/step - loss: 26901.7042\n",
      "Epoch 8/50\n",
      "10000/10000 [==============================] - 0s 17us/step - loss: 26894.8576\n",
      "Epoch 9/50\n",
      "10000/10000 [==============================] - 0s 17us/step - loss: 26888.0147\n",
      "Epoch 10/50\n",
      "10000/10000 [==============================] - 0s 18us/step - loss: 26881.1714\n",
      "Epoch 11/50\n",
      "10000/10000 [==============================] - 0s 15us/step - loss: 26874.3269\n",
      "Epoch 12/50\n",
      "10000/10000 [==============================] - 0s 15us/step - loss: 26867.4832\n",
      "Epoch 13/50\n",
      "10000/10000 [==============================] - 0s 15us/step - loss: 26860.6427\n",
      "Epoch 14/50\n",
      "10000/10000 [==============================] - 0s 20us/step - loss: 26853.8035\n",
      "Epoch 15/50\n",
      "10000/10000 [==============================] - 0s 17us/step - loss: 26846.9658\n",
      "Epoch 16/50\n",
      "10000/10000 [==============================] - 0s 17us/step - loss: 26840.1294\n",
      "Epoch 17/50\n",
      "10000/10000 [==============================] - 0s 17us/step - loss: 26833.2940\n",
      "Epoch 18/50\n",
      "10000/10000 [==============================] - 0s 17us/step - loss: 26826.4573\n",
      "Epoch 19/50\n",
      "10000/10000 [==============================] - 0s 16us/step - loss: 26819.6233\n",
      "Epoch 20/50\n",
      "10000/10000 [==============================] - 0s 17us/step - loss: 26812.7901\n",
      "Epoch 21/50\n",
      "10000/10000 [==============================] - 0s 16us/step - loss: 26805.9567\n",
      "Epoch 22/50\n",
      "10000/10000 [==============================] - 0s 17us/step - loss: 26799.1261\n",
      "Epoch 23/50\n",
      "10000/10000 [==============================] - 0s 17us/step - loss: 26792.2939\n",
      "Epoch 24/50\n",
      "10000/10000 [==============================] - 0s 17us/step - loss: 26785.4612\n",
      "Epoch 25/50\n",
      "10000/10000 [==============================] - 0s 17us/step - loss: 26778.6304\n",
      "Epoch 26/50\n",
      "10000/10000 [==============================] - 0s 18us/step - loss: 26771.8023\n",
      "Epoch 27/50\n",
      "10000/10000 [==============================] - 0s 17us/step - loss: 26764.9732\n",
      "Epoch 28/50\n",
      "10000/10000 [==============================] - 0s 17us/step - loss: 26758.1462\n",
      "Epoch 29/50\n",
      "10000/10000 [==============================] - 0s 17us/step - loss: 26751.3202\n",
      "Epoch 30/50\n",
      "10000/10000 [==============================] - 0s 17us/step - loss: 26744.4960\n",
      "Epoch 31/50\n",
      "10000/10000 [==============================] - 0s 17us/step - loss: 26737.6719\n",
      "Epoch 32/50\n",
      "10000/10000 [==============================] - 0s 16us/step - loss: 26730.8505\n",
      "Epoch 33/50\n",
      "10000/10000 [==============================] - 0s 17us/step - loss: 26724.0285\n",
      "Epoch 34/50\n",
      "10000/10000 [==============================] - 0s 16us/step - loss: 26717.2060\n",
      "Epoch 35/50\n",
      "10000/10000 [==============================] - 0s 17us/step - loss: 26710.3857\n",
      "Epoch 36/50\n",
      "10000/10000 [==============================] - 0s 17us/step - loss: 26703.5651\n",
      "Epoch 37/50\n",
      "10000/10000 [==============================] - 0s 17us/step - loss: 26696.7468\n",
      "Epoch 38/50\n",
      "10000/10000 [==============================] - 0s 16us/step - loss: 26689.9304\n",
      "Epoch 39/50\n",
      "10000/10000 [==============================] - 0s 17us/step - loss: 26683.1119\n",
      "Epoch 40/50\n",
      "10000/10000 [==============================] - 0s 17us/step - loss: 26676.2952\n",
      "Epoch 41/50\n",
      "10000/10000 [==============================] - 0s 16us/step - loss: 26669.4805\n",
      "Epoch 42/50\n",
      "10000/10000 [==============================] - 0s 16us/step - loss: 26662.6649\n",
      "Epoch 43/50\n",
      "10000/10000 [==============================] - 0s 17us/step - loss: 26655.8508\n",
      "Epoch 44/50\n",
      "10000/10000 [==============================] - 0s 17us/step - loss: 26649.0387\n",
      "Epoch 45/50\n",
      "10000/10000 [==============================] - 0s 17us/step - loss: 26642.2278\n",
      "Epoch 46/50\n",
      "10000/10000 [==============================] - 0s 17us/step - loss: 26635.4154\n",
      "Epoch 47/50\n",
      "10000/10000 [==============================] - 0s 23us/step - loss: 26628.6038\n",
      "Epoch 48/50\n",
      "10000/10000 [==============================] - 0s 16us/step - loss: 26621.7961\n",
      "Epoch 49/50\n",
      "10000/10000 [==============================] - 0s 17us/step - loss: 26614.9868\n",
      "Epoch 50/50\n",
      "10000/10000 [==============================] - 0s 16us/step - loss: 26608.1783\n"
     ]
    },
    {
     "data": {
      "text/plain": [
       "<keras.callbacks.callbacks.History at 0x26362de4408>"
      ]
     },
     "execution_count": 25,
     "metadata": {},
     "output_type": "execute_result"
    }
   ],
   "source": [
    "model.fit(X,y, epochs=50)"
   ]
  },
  {
   "cell_type": "code",
   "execution_count": null,
   "metadata": {},
   "outputs": [],
   "source": []
  }
 ],
 "metadata": {
  "kernelspec": {
   "display_name": "Python 3",
   "language": "python",
   "name": "python3"
  },
  "language_info": {
   "codemirror_mode": {
    "name": "ipython",
    "version": 3
   },
   "file_extension": ".py",
   "mimetype": "text/x-python",
   "name": "python",
   "nbconvert_exporter": "python",
   "pygments_lexer": "ipython3",
   "version": "3.7.7"
  }
 },
 "nbformat": 4,
 "nbformat_minor": 4
}
