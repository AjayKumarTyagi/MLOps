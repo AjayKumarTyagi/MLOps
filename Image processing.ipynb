{
 "cells": [
  {
   "cell_type": "code",
   "execution_count": 2,
   "metadata": {},
   "outputs": [],
   "source": [
    "import cv2"
   ]
  },
  {
   "cell_type": "code",
   "execution_count": 3,
   "metadata": {},
   "outputs": [],
   "source": [
    "photo=cv2.imread(\"pic.jpg\")"
   ]
  },
  {
   "cell_type": "code",
   "execution_count": 4,
   "metadata": {},
   "outputs": [],
   "source": [
    "cv2.imshow(\"bosco\",photo)\n",
    "cv2.waitKey()\n",
    "cv2.destroyAllWindows()"
   ]
  },
  {
   "cell_type": "code",
   "execution_count": 5,
   "metadata": {},
   "outputs": [
    {
     "data": {
      "text/plain": [
       "array([[[157, 101,  90],\n",
       "        [157, 101,  90],\n",
       "        [154,  98,  87],\n",
       "        ...,\n",
       "        [ 28,  31,  35],\n",
       "        [ 28,  31,  35],\n",
       "        [ 27,  30,  34]],\n",
       "\n",
       "       [[158, 102,  91],\n",
       "        [157, 101,  90],\n",
       "        [155,  99,  88],\n",
       "        ...,\n",
       "        [ 28,  31,  35],\n",
       "        [ 28,  31,  35],\n",
       "        [ 28,  31,  35]],\n",
       "\n",
       "       [[158, 102,  91],\n",
       "        [157, 101,  90],\n",
       "        [155,  99,  88],\n",
       "        ...,\n",
       "        [ 28,  31,  35],\n",
       "        [ 28,  31,  35],\n",
       "        [ 29,  32,  36]],\n",
       "\n",
       "       ...,\n",
       "\n",
       "       [[ 38,  33,  30],\n",
       "        [ 39,  34,  31],\n",
       "        [ 39,  34,  31],\n",
       "        ...,\n",
       "        [116,  85,  60],\n",
       "        [109,  78,  53],\n",
       "        [112,  82,  57]],\n",
       "\n",
       "       [[ 39,  34,  31],\n",
       "        [ 39,  34,  31],\n",
       "        [ 39,  34,  31],\n",
       "        ...,\n",
       "        [114,  83,  58],\n",
       "        [110,  79,  54],\n",
       "        [113,  83,  58]],\n",
       "\n",
       "       [[ 39,  35,  30],\n",
       "        [ 40,  36,  31],\n",
       "        [ 40,  36,  31],\n",
       "        ...,\n",
       "        [111,  80,  57],\n",
       "        [110,  79,  56],\n",
       "        [113,  82,  59]]], dtype=uint8)"
      ]
     },
     "execution_count": 5,
     "metadata": {},
     "output_type": "execute_result"
    }
   ],
   "source": [
    "photo"
   ]
  },
  {
   "cell_type": "code",
   "execution_count": 6,
   "metadata": {},
   "outputs": [],
   "source": [
    "photo[10]=125"
   ]
  },
  {
   "cell_type": "code",
   "execution_count": 7,
   "metadata": {},
   "outputs": [],
   "source": [
    "cropphoto=photo[:100,:100]"
   ]
  },
  {
   "cell_type": "code",
   "execution_count": 8,
   "metadata": {},
   "outputs": [],
   "source": [
    "cv2.imshow(\"bosco\",cropphoto)\n",
    "cv2.waitKey()\n",
    "cv2.destroyAllWindows()"
   ]
  },
  {
   "cell_type": "code",
   "execution_count": null,
   "metadata": {},
   "outputs": [],
   "source": []
  }
 ],
 "metadata": {
  "kernelspec": {
   "display_name": "Python 3",
   "language": "python",
   "name": "python3"
  },
  "language_info": {
   "codemirror_mode": {
    "name": "ipython",
    "version": 3
   },
   "file_extension": ".py",
   "mimetype": "text/x-python",
   "name": "python",
   "nbconvert_exporter": "python",
   "pygments_lexer": "ipython3",
   "version": "3.7.6"
  }
 },
 "nbformat": 4,
 "nbformat_minor": 4
}
